{
 "cells": [
  {
   "cell_type": "code",
   "execution_count": 2,
   "id": "861cf02d-b8f3-4985-96e3-c8089bc93d79",
   "metadata": {
    "execution": {
     "iopub.execute_input": "2024-11-12T18:37:39.893826Z",
     "iopub.status.busy": "2024-11-12T18:37:39.893593Z",
     "iopub.status.idle": "2024-11-12T18:37:39.966184Z",
     "shell.execute_reply": "2024-11-12T18:37:39.965243Z",
     "shell.execute_reply.started": "2024-11-12T18:37:39.893800Z"
    }
   },
   "outputs": [
    {
     "data": {
      "application/vnd.jupyter.widget-view+json": {
       "model_id": "40ed182ea34149efa334dab450e6d57f",
       "version_major": 2,
       "version_minor": 0
      },
      "text/plain": [
       "VBox()"
      ]
     },
     "metadata": {},
     "output_type": "display_data"
    },
    {
     "data": {
      "application/vnd.jupyter.widget-view+json": {
       "model_id": "",
       "version_major": 2,
       "version_minor": 0
      },
      "text/plain": [
       "FloatProgress(value=0.0, bar_style='info', description='Progress:', layout=Layout(height='25px', width='50%'),…"
      ]
     },
     "metadata": {},
     "output_type": "display_data"
    }
   ],
   "source": [
    "from pyspark.sql import SparkSession"
   ]
  },
  {
   "cell_type": "code",
   "execution_count": 3,
   "id": "80c6cb79-498a-40e4-9859-36f960f2ca91",
   "metadata": {
    "execution": {
     "iopub.execute_input": "2024-11-12T18:37:52.428258Z",
     "iopub.status.busy": "2024-11-12T18:37:52.427981Z",
     "iopub.status.idle": "2024-11-12T18:37:52.484926Z",
     "shell.execute_reply": "2024-11-12T18:37:52.484186Z",
     "shell.execute_reply.started": "2024-11-12T18:37:52.428228Z"
    },
    "tags": []
   },
   "outputs": [
    {
     "data": {
      "application/vnd.jupyter.widget-view+json": {
       "model_id": "bef5d817e2394d7bad6f910b9dc03bab",
       "version_major": 2,
       "version_minor": 0
      },
      "text/plain": [
       "VBox()"
      ]
     },
     "metadata": {},
     "output_type": "display_data"
    },
    {
     "data": {
      "application/vnd.jupyter.widget-view+json": {
       "model_id": "",
       "version_major": 2,
       "version_minor": 0
      },
      "text/plain": [
       "FloatProgress(value=0.0, bar_style='info', description='Progress:', layout=Layout(height='25px', width='50%'),…"
      ]
     },
     "metadata": {},
     "output_type": "display_data"
    }
   ],
   "source": [
    "spark=SparkSession.builder.appName('SparkByExamples.com').getOrCreate()"
   ]
  },
  {
   "cell_type": "code",
   "execution_count": 4,
   "id": "2e8683a7-c6b7-4003-857b-d5d8042cb574",
   "metadata": {
    "execution": {
     "iopub.execute_input": "2024-11-12T18:39:27.427753Z",
     "iopub.status.busy": "2024-11-12T18:39:27.427530Z",
     "iopub.status.idle": "2024-11-12T18:39:27.485505Z",
     "shell.execute_reply": "2024-11-12T18:39:27.484901Z",
     "shell.execute_reply.started": "2024-11-12T18:39:27.427730Z"
    }
   },
   "outputs": [
    {
     "data": {
      "application/vnd.jupyter.widget-view+json": {
       "model_id": "4dda27a19dc44cc38edcec3386e65cd7",
       "version_major": 2,
       "version_minor": 0
      },
      "text/plain": [
       "VBox()"
      ]
     },
     "metadata": {},
     "output_type": "display_data"
    },
    {
     "data": {
      "application/vnd.jupyter.widget-view+json": {
       "model_id": "",
       "version_major": 2,
       "version_minor": 0
      },
      "text/plain": [
       "FloatProgress(value=0.0, bar_style='info', description='Progress:', layout=Layout(height='25px', width='50%'),…"
      ]
     },
     "metadata": {},
     "output_type": "display_data"
    }
   ],
   "source": [
    "# creating dataframe \n",
    "data = [('James', 'Smith', 'M', 30),\n",
    "('Anna', 'Rose', 'F', 41),\n",
    "('Robert', 'Williams', 'M', 20)]\n",
    "# creating columns\n",
    "columns = [\"fname\",\"lname\",\"Gender\",\"age\"]"
   ]
  },
  {
   "cell_type": "code",
   "execution_count": 5,
   "id": "f9b73ccb-540a-4ce8-996f-c43aec69ede1",
   "metadata": {
    "execution": {
     "iopub.execute_input": "2024-11-12T18:40:21.774939Z",
     "iopub.status.busy": "2024-11-12T18:40:21.774680Z",
     "iopub.status.idle": "2024-11-12T18:40:24.077686Z",
     "shell.execute_reply": "2024-11-12T18:40:24.076956Z",
     "shell.execute_reply.started": "2024-11-12T18:40:21.774910Z"
    }
   },
   "outputs": [
    {
     "data": {
      "application/vnd.jupyter.widget-view+json": {
       "model_id": "0abd0c2f9fcc4a33a197184b19985cbf",
       "version_major": 2,
       "version_minor": 0
      },
      "text/plain": [
       "VBox()"
      ]
     },
     "metadata": {},
     "output_type": "display_data"
    },
    {
     "data": {
      "application/vnd.jupyter.widget-view+json": {
       "model_id": "",
       "version_major": 2,
       "version_minor": 0
      },
      "text/plain": [
       "FloatProgress(value=0.0, bar_style='info', description='Progress:', layout=Layout(height='25px', width='50%'),…"
      ]
     },
     "metadata": {},
     "output_type": "display_data"
    }
   ],
   "source": [
    "# creating df \n",
    "df = spark.createDataFrame(data,columns)\n",
    "df.createOrReplaceTempView(\"people\")"
   ]
  },
  {
   "cell_type": "code",
   "execution_count": null,
   "id": "1c665f3b-67b5-4f3a-b950-a36aa61e4b21",
   "metadata": {},
   "outputs": [],
   "source": [
    "spark.sql"
   ]
  }
 ],
 "metadata": {
  "kernelspec": {
   "display_name": "PySpark",
   "language": "python",
   "name": "pysparkkernel"
  },
  "language_info": {
   "codemirror_mode": {
    "name": "python",
    "version": 3
   },
   "file_extension": ".py",
   "mimetype": "text/x-python",
   "name": "pyspark",
   "pygments_lexer": "python3"
  }
 },
 "nbformat": 4,
 "nbformat_minor": 5
}
